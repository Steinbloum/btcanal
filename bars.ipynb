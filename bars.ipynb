{
 "cells": [
  {
   "cell_type": "code",
   "execution_count": 2,
   "metadata": {},
   "outputs": [],
   "source": [
    "import pandas as pd\n",
    "import numpy as np\n",
    "import plotly\n",
    "import plotly.express as px\n",
    "from datetime import datetime"
   ]
  },
  {
   "cell_type": "markdown",
   "metadata": {},
   "source": [
    "Define DF\n"
   ]
  },
  {
   "cell_type": "code",
   "execution_count": 9,
   "metadata": {},
   "outputs": [
    {
     "name": "stdout",
     "output_type": "stream",
     "text": [
      "     opentime      open      high       low     close weekday  variation\n",
      "0    03:00:00  43671.50  43782.67  43401.99  43716.80  Friday   0.103729\n",
      "1    04:00:00  43716.80  43772.00  43260.01  43373.51  Friday  -0.785259\n",
      "2    05:00:00  43373.52  43660.00  43338.18  43609.27  Friday   0.543534\n",
      "3    06:00:00  43609.27  43680.37  43437.00  43604.68  Friday  -0.010525\n",
      "4    07:00:00  43604.67  43860.81  43490.23  43819.99  Friday   0.493800\n",
      "..        ...       ...       ...       ...       ...     ...        ...\n",
      "738  20:00:00  60763.08  60886.17  60664.31  60747.01  Sunday  -0.026447\n",
      "739  21:00:00  60747.01  61146.22  60570.15  60968.91  Sunday   0.365285\n",
      "740  22:00:00  60968.91  61552.45  60911.62  61481.99  Sunday   0.841544\n",
      "741  23:00:00  61481.99  61645.14  61323.51  61427.79  Sunday  -0.088156\n",
      "742  00:00:00  61426.44  61680.00  61258.00  61348.61  Monday  -0.126704\n",
      "\n",
      "[743 rows x 7 columns]\n"
     ]
    }
   ],
   "source": [
    "df = pd.read_csv(\"BTCUSDT-1h-2021-10.csv\")\n",
    "df.columns = [\n",
    "    \"opentime\",\n",
    "    \"open\",\n",
    "    \"high\",\n",
    "    \"low\",\n",
    "    \"close\",\n",
    "    \"RL\",\n",
    "    \"closetime\",\n",
    "    \"ignore1\",\n",
    "    \"ignore2\",\n",
    "    \"ignore3\",\n",
    "    \"ignore4\",\n",
    "    \"ignore5\",\n",
    "]\n",
    "df = pd.DataFrame(df, columns=[\"opentime\", \"open\", \"high\", \"low\", \"close\"])\n",
    "lsnumday = []\n",
    "lsweekday = []\n",
    "lsvar = []\n",
    "lst = []\n",
    "dictdays = {\n",
    "    0: \"Monday\",\n",
    "    1: \"Tuesday\",\n",
    "    2: \"Wednesday\",\n",
    "    3: \"Thursday\",\n",
    "    4: \"Friday\",\n",
    "    5: \"Saturday\",\n",
    "    6: \"Sunday\",\n",
    "}\n",
    "for n in range(len(df)):\n",
    "    ts = df.iloc[n, 0] / 1000\n",
    "    dt = datetime.fromtimestamp(ts)\n",
    "    df.iloc[n, 0] = dt\n",
    "    weekd = datetime.weekday(df.iloc[n, 0])\n",
    "    lsnumday.append(weekd)\n",
    "    var = df.iloc[n, 4] / df.iloc[n, 1] * 100 - 100\n",
    "    lsvar.append(var)\n",
    "for item in lsnumday:\n",
    "    lsweekday.append(dictdays[item])\n",
    "df[\"weekday\"] = lsweekday\n",
    "df[\"variation\"] = lsvar\n",
    "for n in range(len(df)):\n",
    "    dtm = df.iloc[n, 0]\n",
    "    tm = dtm.time()\n",
    "    lst.append(tm)\n",
    "df[\"opentime\"] = lst\n",
    "print(df)"
   ]
  },
  {
   "cell_type": "markdown",
   "metadata": {},
   "source": [
    "define means and shit for DFmean"
   ]
  },
  {
   "cell_type": "code",
   "execution_count": 33,
   "metadata": {},
   "outputs": [
    {
     "name": "stdout",
     "output_type": "stream",
     "text": [
      "Searching Fridays\n",
      "searching for Friday, 03:00:00\n",
      "searching for Friday, 04:00:00\n",
      "searching for Friday, 05:00:00\n",
      "searching for Friday, 06:00:00\n",
      "searching for Friday, 07:00:00\n",
      "searching for Friday, 08:00:00\n",
      "searching for Friday, 09:00:00\n",
      "searching for Friday, 10:00:00\n",
      "searching for Friday, 11:00:00\n",
      "searching for Friday, 12:00:00\n",
      "searching for Friday, 13:00:00\n",
      "searching for Friday, 14:00:00\n",
      "searching for Friday, 15:00:00\n",
      "searching for Friday, 16:00:00\n",
      "searching for Friday, 17:00:00\n",
      "searching for Friday, 18:00:00\n",
      "searching for Friday, 19:00:00\n",
      "searching for Friday, 20:00:00\n",
      "searching for Friday, 21:00:00\n",
      "searching for Friday, 22:00:00\n",
      "searching for Friday, 23:00:00\n",
      "searching for Friday, 00:00:00\n",
      "searching for Friday, 01:00:00\n",
      "searching for Friday, 02:00:00\n",
      "Searching Saturdays\n",
      "searching for Saturday, 03:00:00\n",
      "searching for Saturday, 04:00:00\n",
      "searching for Saturday, 05:00:00\n",
      "searching for Saturday, 06:00:00\n",
      "searching for Saturday, 07:00:00\n",
      "searching for Saturday, 08:00:00\n",
      "searching for Saturday, 09:00:00\n",
      "searching for Saturday, 10:00:00\n",
      "searching for Saturday, 11:00:00\n",
      "searching for Saturday, 12:00:00\n",
      "searching for Saturday, 13:00:00\n",
      "searching for Saturday, 14:00:00\n",
      "searching for Saturday, 15:00:00\n",
      "searching for Saturday, 16:00:00\n",
      "searching for Saturday, 17:00:00\n",
      "searching for Saturday, 18:00:00\n",
      "searching for Saturday, 19:00:00\n",
      "searching for Saturday, 20:00:00\n",
      "searching for Saturday, 21:00:00\n",
      "searching for Saturday, 22:00:00\n",
      "searching for Saturday, 23:00:00\n",
      "searching for Saturday, 00:00:00\n",
      "searching for Saturday, 01:00:00\n",
      "searching for Saturday, 02:00:00\n",
      "Searching Sundays\n",
      "searching for Sunday, 03:00:00\n",
      "searching for Sunday, 04:00:00\n",
      "searching for Sunday, 05:00:00\n",
      "searching for Sunday, 06:00:00\n",
      "searching for Sunday, 07:00:00\n",
      "searching for Sunday, 08:00:00\n",
      "searching for Sunday, 09:00:00\n",
      "searching for Sunday, 10:00:00\n",
      "searching for Sunday, 11:00:00\n",
      "searching for Sunday, 12:00:00\n",
      "searching for Sunday, 13:00:00\n",
      "searching for Sunday, 14:00:00\n",
      "searching for Sunday, 15:00:00\n",
      "searching for Sunday, 16:00:00\n",
      "searching for Sunday, 17:00:00\n",
      "searching for Sunday, 18:00:00\n",
      "searching for Sunday, 19:00:00\n",
      "searching for Sunday, 20:00:00\n",
      "searching for Sunday, 21:00:00\n",
      "searching for Sunday, 22:00:00\n",
      "searching for Sunday, 23:00:00\n",
      "searching for Sunday, 00:00:00\n",
      "searching for Sunday, 01:00:00\n",
      "searching for Sunday, 02:00:00\n",
      "Searching Mondays\n",
      "searching for Monday, 03:00:00\n",
      "searching for Monday, 04:00:00\n",
      "searching for Monday, 05:00:00\n",
      "searching for Monday, 06:00:00\n",
      "searching for Monday, 07:00:00\n",
      "searching for Monday, 08:00:00\n",
      "searching for Monday, 09:00:00\n",
      "searching for Monday, 10:00:00\n",
      "searching for Monday, 11:00:00\n",
      "searching for Monday, 12:00:00\n",
      "searching for Monday, 13:00:00\n",
      "searching for Monday, 14:00:00\n",
      "searching for Monday, 15:00:00\n",
      "searching for Monday, 16:00:00\n",
      "searching for Monday, 17:00:00\n",
      "searching for Monday, 18:00:00\n",
      "searching for Monday, 19:00:00\n",
      "searching for Monday, 20:00:00\n",
      "searching for Monday, 21:00:00\n",
      "searching for Monday, 22:00:00\n",
      "searching for Monday, 23:00:00\n",
      "searching for Monday, 00:00:00\n",
      "searching for Monday, 01:00:00\n",
      "searching for Monday, 02:00:00\n",
      "Searching Tuesdays\n",
      "searching for Tuesday, 03:00:00\n",
      "searching for Tuesday, 04:00:00\n",
      "searching for Tuesday, 05:00:00\n",
      "searching for Tuesday, 06:00:00\n",
      "searching for Tuesday, 07:00:00\n",
      "searching for Tuesday, 08:00:00\n",
      "searching for Tuesday, 09:00:00\n",
      "searching for Tuesday, 10:00:00\n",
      "searching for Tuesday, 11:00:00\n",
      "searching for Tuesday, 12:00:00\n",
      "searching for Tuesday, 13:00:00\n",
      "searching for Tuesday, 14:00:00\n",
      "searching for Tuesday, 15:00:00\n",
      "searching for Tuesday, 16:00:00\n",
      "searching for Tuesday, 17:00:00\n",
      "searching for Tuesday, 18:00:00\n",
      "searching for Tuesday, 19:00:00\n",
      "searching for Tuesday, 20:00:00\n",
      "searching for Tuesday, 21:00:00\n",
      "searching for Tuesday, 22:00:00\n",
      "searching for Tuesday, 23:00:00\n",
      "searching for Tuesday, 00:00:00\n",
      "searching for Tuesday, 01:00:00\n",
      "searching for Tuesday, 02:00:00\n",
      "Searching Wednesdays\n",
      "searching for Wednesday, 03:00:00\n",
      "searching for Wednesday, 04:00:00\n",
      "searching for Wednesday, 05:00:00\n",
      "searching for Wednesday, 06:00:00\n",
      "searching for Wednesday, 07:00:00\n",
      "searching for Wednesday, 08:00:00\n",
      "searching for Wednesday, 09:00:00\n",
      "searching for Wednesday, 10:00:00\n",
      "searching for Wednesday, 11:00:00\n",
      "searching for Wednesday, 12:00:00\n",
      "searching for Wednesday, 13:00:00\n",
      "searching for Wednesday, 14:00:00\n",
      "searching for Wednesday, 15:00:00\n",
      "searching for Wednesday, 16:00:00\n",
      "searching for Wednesday, 17:00:00\n",
      "searching for Wednesday, 18:00:00\n",
      "searching for Wednesday, 19:00:00\n",
      "searching for Wednesday, 20:00:00\n",
      "searching for Wednesday, 21:00:00\n",
      "searching for Wednesday, 22:00:00\n",
      "searching for Wednesday, 23:00:00\n",
      "searching for Wednesday, 00:00:00\n",
      "searching for Wednesday, 01:00:00\n",
      "searching for Wednesday, 02:00:00\n",
      "Searching Thursdays\n",
      "searching for Thursday, 03:00:00\n",
      "searching for Thursday, 04:00:00\n",
      "searching for Thursday, 05:00:00\n",
      "searching for Thursday, 06:00:00\n",
      "searching for Thursday, 07:00:00\n",
      "searching for Thursday, 08:00:00\n",
      "searching for Thursday, 09:00:00\n",
      "searching for Thursday, 10:00:00\n",
      "searching for Thursday, 11:00:00\n",
      "searching for Thursday, 12:00:00\n",
      "searching for Thursday, 13:00:00\n",
      "searching for Thursday, 14:00:00\n",
      "searching for Thursday, 15:00:00\n",
      "searching for Thursday, 16:00:00\n",
      "searching for Thursday, 17:00:00\n",
      "searching for Thursday, 18:00:00\n",
      "searching for Thursday, 19:00:00\n",
      "searching for Thursday, 20:00:00\n",
      "searching for Thursday, 21:00:00\n",
      "searching for Thursday, 22:00:00\n",
      "searching for Thursday, 23:00:00\n",
      "searching for Thursday, 00:00:00\n",
      "searching for Thursday, 01:00:00\n",
      "searching for Thursday, 02:00:00\n"
     ]
    },
    {
     "data": {
      "text/html": [
       "<div>\n",
       "<style scoped>\n",
       "    .dataframe tbody tr th:only-of-type {\n",
       "        vertical-align: middle;\n",
       "    }\n",
       "\n",
       "    .dataframe tbody tr th {\n",
       "        vertical-align: top;\n",
       "    }\n",
       "\n",
       "    .dataframe thead th {\n",
       "        text-align: right;\n",
       "    }\n",
       "</style>\n",
       "<table border=\"1\" class=\"dataframe\">\n",
       "  <thead>\n",
       "    <tr style=\"text-align: right;\">\n",
       "      <th></th>\n",
       "      <th>Friday</th>\n",
       "      <th>Saturday</th>\n",
       "      <th>Sunday</th>\n",
       "      <th>Monday</th>\n",
       "      <th>Tuesday</th>\n",
       "      <th>Wednesday</th>\n",
       "      <th>Thursday</th>\n",
       "    </tr>\n",
       "  </thead>\n",
       "  <tbody>\n",
       "    <tr>\n",
       "      <th>03:00:00</th>\n",
       "      <td>0.075729</td>\n",
       "      <td>-0.158096</td>\n",
       "      <td>-0.197390</td>\n",
       "      <td>-0.115844</td>\n",
       "      <td>-0.247114</td>\n",
       "      <td>-0.257644</td>\n",
       "      <td>0.295912</td>\n",
       "    </tr>\n",
       "    <tr>\n",
       "      <th>04:00:00</th>\n",
       "      <td>0.470465</td>\n",
       "      <td>0.111486</td>\n",
       "      <td>0.188218</td>\n",
       "      <td>0.227309</td>\n",
       "      <td>-0.115920</td>\n",
       "      <td>0.126537</td>\n",
       "      <td>0.061785</td>\n",
       "    </tr>\n",
       "    <tr>\n",
       "      <th>05:00:00</th>\n",
       "      <td>0.350016</td>\n",
       "      <td>0.052264</td>\n",
       "      <td>0.201229</td>\n",
       "      <td>0.263483</td>\n",
       "      <td>0.316173</td>\n",
       "      <td>0.049582</td>\n",
       "      <td>-0.178967</td>\n",
       "    </tr>\n",
       "    <tr>\n",
       "      <th>06:00:00</th>\n",
       "      <td>-0.011852</td>\n",
       "      <td>0.005154</td>\n",
       "      <td>0.117525</td>\n",
       "      <td>0.215423</td>\n",
       "      <td>-0.148269</td>\n",
       "      <td>0.105199</td>\n",
       "      <td>0.048387</td>\n",
       "    </tr>\n",
       "    <tr>\n",
       "      <th>07:00:00</th>\n",
       "      <td>0.021486</td>\n",
       "      <td>0.124387</td>\n",
       "      <td>-0.140129</td>\n",
       "      <td>-0.042959</td>\n",
       "      <td>0.262356</td>\n",
       "      <td>-0.564898</td>\n",
       "      <td>-0.139226</td>\n",
       "    </tr>\n",
       "    <tr>\n",
       "      <th>08:00:00</th>\n",
       "      <td>0.098158</td>\n",
       "      <td>0.134403</td>\n",
       "      <td>-0.073912</td>\n",
       "      <td>0.046129</td>\n",
       "      <td>-0.223051</td>\n",
       "      <td>0.061925</td>\n",
       "      <td>-0.256622</td>\n",
       "    </tr>\n",
       "    <tr>\n",
       "      <th>09:00:00</th>\n",
       "      <td>0.427790</td>\n",
       "      <td>-0.171119</td>\n",
       "      <td>-0.321412</td>\n",
       "      <td>0.230335</td>\n",
       "      <td>0.198402</td>\n",
       "      <td>-0.599990</td>\n",
       "      <td>0.092232</td>\n",
       "    </tr>\n",
       "    <tr>\n",
       "      <th>10:00:00</th>\n",
       "      <td>0.516874</td>\n",
       "      <td>-0.138179</td>\n",
       "      <td>-0.033510</td>\n",
       "      <td>-0.196387</td>\n",
       "      <td>0.552974</td>\n",
       "      <td>-0.641573</td>\n",
       "      <td>0.913986</td>\n",
       "    </tr>\n",
       "    <tr>\n",
       "      <th>11:00:00</th>\n",
       "      <td>-0.197889</td>\n",
       "      <td>-0.077133</td>\n",
       "      <td>0.098467</td>\n",
       "      <td>-0.208187</td>\n",
       "      <td>-0.266559</td>\n",
       "      <td>-0.008397</td>\n",
       "      <td>0.223456</td>\n",
       "    </tr>\n",
       "    <tr>\n",
       "      <th>12:00:00</th>\n",
       "      <td>1.068076</td>\n",
       "      <td>-0.068887</td>\n",
       "      <td>-0.077255</td>\n",
       "      <td>-0.140154</td>\n",
       "      <td>0.140588</td>\n",
       "      <td>0.071908</td>\n",
       "      <td>-0.306090</td>\n",
       "    </tr>\n",
       "    <tr>\n",
       "      <th>13:00:00</th>\n",
       "      <td>0.197366</td>\n",
       "      <td>0.427256</td>\n",
       "      <td>-0.224457</td>\n",
       "      <td>-0.098682</td>\n",
       "      <td>-0.170326</td>\n",
       "      <td>0.128722</td>\n",
       "      <td>-0.178174</td>\n",
       "    </tr>\n",
       "    <tr>\n",
       "      <th>14:00:00</th>\n",
       "      <td>-0.249925</td>\n",
       "      <td>-0.226278</td>\n",
       "      <td>-0.053967</td>\n",
       "      <td>-0.053735</td>\n",
       "      <td>-0.172945</td>\n",
       "      <td>1.042805</td>\n",
       "      <td>-0.027008</td>\n",
       "    </tr>\n",
       "    <tr>\n",
       "      <th>15:00:00</th>\n",
       "      <td>-0.385643</td>\n",
       "      <td>0.171028</td>\n",
       "      <td>0.259902</td>\n",
       "      <td>1.223937</td>\n",
       "      <td>0.178905</td>\n",
       "      <td>1.209931</td>\n",
       "      <td>0.263162</td>\n",
       "    </tr>\n",
       "    <tr>\n",
       "      <th>16:00:00</th>\n",
       "      <td>-0.060129</td>\n",
       "      <td>-0.228865</td>\n",
       "      <td>-0.192351</td>\n",
       "      <td>-0.082400</td>\n",
       "      <td>-0.573640</td>\n",
       "      <td>0.935238</td>\n",
       "      <td>-0.793739</td>\n",
       "    </tr>\n",
       "    <tr>\n",
       "      <th>17:00:00</th>\n",
       "      <td>0.067427</td>\n",
       "      <td>0.078367</td>\n",
       "      <td>-0.057376</td>\n",
       "      <td>0.243624</td>\n",
       "      <td>0.122597</td>\n",
       "      <td>0.300382</td>\n",
       "      <td>-0.388350</td>\n",
       "    </tr>\n",
       "    <tr>\n",
       "      <th>18:00:00</th>\n",
       "      <td>0.793008</td>\n",
       "      <td>-0.212907</td>\n",
       "      <td>0.319930</td>\n",
       "      <td>0.295574</td>\n",
       "      <td>0.122966</td>\n",
       "      <td>0.182794</td>\n",
       "      <td>-0.044313</td>\n",
       "    </tr>\n",
       "    <tr>\n",
       "      <th>19:00:00</th>\n",
       "      <td>-0.120414</td>\n",
       "      <td>0.041694</td>\n",
       "      <td>0.370552</td>\n",
       "      <td>0.181743</td>\n",
       "      <td>0.258114</td>\n",
       "      <td>-0.180322</td>\n",
       "      <td>-0.091813</td>\n",
       "    </tr>\n",
       "    <tr>\n",
       "      <th>20:00:00</th>\n",
       "      <td>0.005059</td>\n",
       "      <td>0.212232</td>\n",
       "      <td>-0.138408</td>\n",
       "      <td>0.026635</td>\n",
       "      <td>0.049707</td>\n",
       "      <td>0.062230</td>\n",
       "      <td>-0.068869</td>\n",
       "    </tr>\n",
       "    <tr>\n",
       "      <th>21:00:00</th>\n",
       "      <td>0.403399</td>\n",
       "      <td>-0.042692</td>\n",
       "      <td>0.117762</td>\n",
       "      <td>-0.243835</td>\n",
       "      <td>0.348098</td>\n",
       "      <td>0.384306</td>\n",
       "      <td>0.450492</td>\n",
       "    </tr>\n",
       "    <tr>\n",
       "      <th>22:00:00</th>\n",
       "      <td>-0.024262</td>\n",
       "      <td>-0.019542</td>\n",
       "      <td>-0.162996</td>\n",
       "      <td>-0.321025</td>\n",
       "      <td>0.143754</td>\n",
       "      <td>-0.387104</td>\n",
       "      <td>-0.106211</td>\n",
       "    </tr>\n",
       "    <tr>\n",
       "      <th>23:00:00</th>\n",
       "      <td>-0.377305</td>\n",
       "      <td>-0.111067</td>\n",
       "      <td>-0.176201</td>\n",
       "      <td>0.164094</td>\n",
       "      <td>-0.107748</td>\n",
       "      <td>0.167823</td>\n",
       "      <td>-0.055390</td>\n",
       "    </tr>\n",
       "    <tr>\n",
       "      <th>00:00:00</th>\n",
       "      <td>-0.440306</td>\n",
       "      <td>-0.080893</td>\n",
       "      <td>0.065837</td>\n",
       "      <td>0.302977</td>\n",
       "      <td>0.169056</td>\n",
       "      <td>-0.239331</td>\n",
       "      <td>0.000406</td>\n",
       "    </tr>\n",
       "    <tr>\n",
       "      <th>01:00:00</th>\n",
       "      <td>-0.235311</td>\n",
       "      <td>0.131216</td>\n",
       "      <td>0.053910</td>\n",
       "      <td>0.064199</td>\n",
       "      <td>0.291948</td>\n",
       "      <td>-0.021866</td>\n",
       "      <td>-0.038980</td>\n",
       "    </tr>\n",
       "    <tr>\n",
       "      <th>02:00:00</th>\n",
       "      <td>0.614780</td>\n",
       "      <td>-0.041824</td>\n",
       "      <td>-0.089095</td>\n",
       "      <td>0.825351</td>\n",
       "      <td>-0.118137</td>\n",
       "      <td>0.202898</td>\n",
       "      <td>-0.248449</td>\n",
       "    </tr>\n",
       "  </tbody>\n",
       "</table>\n",
       "</div>"
      ],
      "text/plain": [
       "            Friday  Saturday    Sunday    Monday   Tuesday  Wednesday  \\\n",
       "03:00:00  0.075729 -0.158096 -0.197390 -0.115844 -0.247114  -0.257644   \n",
       "04:00:00  0.470465  0.111486  0.188218  0.227309 -0.115920   0.126537   \n",
       "05:00:00  0.350016  0.052264  0.201229  0.263483  0.316173   0.049582   \n",
       "06:00:00 -0.011852  0.005154  0.117525  0.215423 -0.148269   0.105199   \n",
       "07:00:00  0.021486  0.124387 -0.140129 -0.042959  0.262356  -0.564898   \n",
       "08:00:00  0.098158  0.134403 -0.073912  0.046129 -0.223051   0.061925   \n",
       "09:00:00  0.427790 -0.171119 -0.321412  0.230335  0.198402  -0.599990   \n",
       "10:00:00  0.516874 -0.138179 -0.033510 -0.196387  0.552974  -0.641573   \n",
       "11:00:00 -0.197889 -0.077133  0.098467 -0.208187 -0.266559  -0.008397   \n",
       "12:00:00  1.068076 -0.068887 -0.077255 -0.140154  0.140588   0.071908   \n",
       "13:00:00  0.197366  0.427256 -0.224457 -0.098682 -0.170326   0.128722   \n",
       "14:00:00 -0.249925 -0.226278 -0.053967 -0.053735 -0.172945   1.042805   \n",
       "15:00:00 -0.385643  0.171028  0.259902  1.223937  0.178905   1.209931   \n",
       "16:00:00 -0.060129 -0.228865 -0.192351 -0.082400 -0.573640   0.935238   \n",
       "17:00:00  0.067427  0.078367 -0.057376  0.243624  0.122597   0.300382   \n",
       "18:00:00  0.793008 -0.212907  0.319930  0.295574  0.122966   0.182794   \n",
       "19:00:00 -0.120414  0.041694  0.370552  0.181743  0.258114  -0.180322   \n",
       "20:00:00  0.005059  0.212232 -0.138408  0.026635  0.049707   0.062230   \n",
       "21:00:00  0.403399 -0.042692  0.117762 -0.243835  0.348098   0.384306   \n",
       "22:00:00 -0.024262 -0.019542 -0.162996 -0.321025  0.143754  -0.387104   \n",
       "23:00:00 -0.377305 -0.111067 -0.176201  0.164094 -0.107748   0.167823   \n",
       "00:00:00 -0.440306 -0.080893  0.065837  0.302977  0.169056  -0.239331   \n",
       "01:00:00 -0.235311  0.131216  0.053910  0.064199  0.291948  -0.021866   \n",
       "02:00:00  0.614780 -0.041824 -0.089095  0.825351 -0.118137   0.202898   \n",
       "\n",
       "          Thursday  \n",
       "03:00:00  0.295912  \n",
       "04:00:00  0.061785  \n",
       "05:00:00 -0.178967  \n",
       "06:00:00  0.048387  \n",
       "07:00:00 -0.139226  \n",
       "08:00:00 -0.256622  \n",
       "09:00:00  0.092232  \n",
       "10:00:00  0.913986  \n",
       "11:00:00  0.223456  \n",
       "12:00:00 -0.306090  \n",
       "13:00:00 -0.178174  \n",
       "14:00:00 -0.027008  \n",
       "15:00:00  0.263162  \n",
       "16:00:00 -0.793739  \n",
       "17:00:00 -0.388350  \n",
       "18:00:00 -0.044313  \n",
       "19:00:00 -0.091813  \n",
       "20:00:00 -0.068869  \n",
       "21:00:00  0.450492  \n",
       "22:00:00 -0.106211  \n",
       "23:00:00 -0.055390  \n",
       "00:00:00  0.000406  \n",
       "01:00:00 -0.038980  \n",
       "02:00:00 -0.248449  "
      ]
     },
     "execution_count": 33,
     "metadata": {},
     "output_type": "execute_result"
    }
   ],
   "source": [
    "lsweekday = df.weekday.unique().tolist()\n",
    "lshour = df.opentime.unique().tolist()\n",
    "datamean = {}\n",
    "datamed = {}\n",
    "for day in lsweekday:\n",
    "    print(\"Searching {}s\".format(day))\n",
    "    dictmean = {}\n",
    "    dictmed = {}\n",
    "    for hour in lshour:\n",
    "        print(\"searching for {}, {}\".format(day, hour))\n",
    "        ls  = []\n",
    "        \n",
    "        for n in range(len(df)):\n",
    "            if df.iloc[n, 5] == day and df.iloc[n, 0] == hour:\n",
    "                var = df.iloc[n, 6]\n",
    "                #print(\"found {} {} value is {}\".format(day, hour, var))\n",
    "                ls.append(var)\n",
    "        #print(ls)\n",
    "        mean = np.mean(ls)\n",
    "        median = np.median(ls)\n",
    "        #print(mean)\n",
    "        #print(median)\n",
    "        dictmean[hour] = mean\n",
    "        dictmed[hour] = median\n",
    "        #print(dicta)\n",
    "    datamean[day] = dictmean\n",
    "    datamed[day] = dictmed\n",
    "    #print(dictb)\n",
    "dfmean = pd.DataFrame(datamean)\n",
    "dfmed = pd.DataFrame(datamed)\n",
    "dfmean\n"
   ]
  },
  {
   "cell_type": "code",
   "execution_count": 34,
   "metadata": {},
   "outputs": [
    {
     "data": {
      "text/html": [
       "<div>\n",
       "<style scoped>\n",
       "    .dataframe tbody tr th:only-of-type {\n",
       "        vertical-align: middle;\n",
       "    }\n",
       "\n",
       "    .dataframe tbody tr th {\n",
       "        vertical-align: top;\n",
       "    }\n",
       "\n",
       "    .dataframe thead th {\n",
       "        text-align: right;\n",
       "    }\n",
       "</style>\n",
       "<table border=\"1\" class=\"dataframe\">\n",
       "  <thead>\n",
       "    <tr style=\"text-align: right;\">\n",
       "      <th></th>\n",
       "      <th>Friday</th>\n",
       "      <th>Saturday</th>\n",
       "      <th>Sunday</th>\n",
       "      <th>Monday</th>\n",
       "      <th>Tuesday</th>\n",
       "      <th>Wednesday</th>\n",
       "      <th>Thursday</th>\n",
       "    </tr>\n",
       "  </thead>\n",
       "  <tbody>\n",
       "    <tr>\n",
       "      <th>03:00:00</th>\n",
       "      <td>0.103729</td>\n",
       "      <td>-0.172965</td>\n",
       "      <td>-0.142977</td>\n",
       "      <td>-0.085706</td>\n",
       "      <td>-0.302092</td>\n",
       "      <td>-0.283319</td>\n",
       "      <td>0.488536</td>\n",
       "    </tr>\n",
       "    <tr>\n",
       "      <th>04:00:00</th>\n",
       "      <td>0.329605</td>\n",
       "      <td>0.190079</td>\n",
       "      <td>0.230933</td>\n",
       "      <td>0.154467</td>\n",
       "      <td>-0.053677</td>\n",
       "      <td>0.083570</td>\n",
       "      <td>-0.060741</td>\n",
       "    </tr>\n",
       "    <tr>\n",
       "      <th>05:00:00</th>\n",
       "      <td>0.543534</td>\n",
       "      <td>0.047063</td>\n",
       "      <td>0.094149</td>\n",
       "      <td>0.131167</td>\n",
       "      <td>-0.016914</td>\n",
       "      <td>0.002783</td>\n",
       "      <td>-0.203398</td>\n",
       "    </tr>\n",
       "    <tr>\n",
       "      <th>06:00:00</th>\n",
       "      <td>-0.010525</td>\n",
       "      <td>0.114164</td>\n",
       "      <td>-0.208401</td>\n",
       "      <td>0.159483</td>\n",
       "      <td>-0.264369</td>\n",
       "      <td>-0.013236</td>\n",
       "      <td>-0.062468</td>\n",
       "    </tr>\n",
       "    <tr>\n",
       "      <th>07:00:00</th>\n",
       "      <td>-0.012876</td>\n",
       "      <td>0.083836</td>\n",
       "      <td>-0.156133</td>\n",
       "      <td>0.018656</td>\n",
       "      <td>0.181552</td>\n",
       "      <td>-0.396103</td>\n",
       "      <td>-0.212299</td>\n",
       "    </tr>\n",
       "    <tr>\n",
       "      <th>08:00:00</th>\n",
       "      <td>0.118798</td>\n",
       "      <td>0.128629</td>\n",
       "      <td>-0.040169</td>\n",
       "      <td>0.046711</td>\n",
       "      <td>-0.213204</td>\n",
       "      <td>0.020481</td>\n",
       "      <td>-0.276407</td>\n",
       "    </tr>\n",
       "    <tr>\n",
       "      <th>09:00:00</th>\n",
       "      <td>1.047380</td>\n",
       "      <td>-0.242746</td>\n",
       "      <td>-0.162680</td>\n",
       "      <td>0.256923</td>\n",
       "      <td>0.168152</td>\n",
       "      <td>-0.692785</td>\n",
       "      <td>0.157529</td>\n",
       "    </tr>\n",
       "    <tr>\n",
       "      <th>10:00:00</th>\n",
       "      <td>0.343076</td>\n",
       "      <td>-0.263262</td>\n",
       "      <td>-0.143629</td>\n",
       "      <td>-0.245889</td>\n",
       "      <td>0.526854</td>\n",
       "      <td>-0.600509</td>\n",
       "      <td>0.700612</td>\n",
       "    </tr>\n",
       "    <tr>\n",
       "      <th>11:00:00</th>\n",
       "      <td>-0.146066</td>\n",
       "      <td>-0.038505</td>\n",
       "      <td>0.226426</td>\n",
       "      <td>-0.026205</td>\n",
       "      <td>-0.442541</td>\n",
       "      <td>0.005005</td>\n",
       "      <td>0.226515</td>\n",
       "    </tr>\n",
       "    <tr>\n",
       "      <th>12:00:00</th>\n",
       "      <td>0.276055</td>\n",
       "      <td>-0.025975</td>\n",
       "      <td>-0.036430</td>\n",
       "      <td>-0.055745</td>\n",
       "      <td>0.274667</td>\n",
       "      <td>-0.091713</td>\n",
       "      <td>-0.385749</td>\n",
       "    </tr>\n",
       "    <tr>\n",
       "      <th>13:00:00</th>\n",
       "      <td>0.286720</td>\n",
       "      <td>0.106000</td>\n",
       "      <td>-0.292402</td>\n",
       "      <td>-0.079842</td>\n",
       "      <td>-0.226566</td>\n",
       "      <td>0.090988</td>\n",
       "      <td>-0.064361</td>\n",
       "    </tr>\n",
       "    <tr>\n",
       "      <th>14:00:00</th>\n",
       "      <td>-0.420745</td>\n",
       "      <td>0.023953</td>\n",
       "      <td>-0.029107</td>\n",
       "      <td>0.025325</td>\n",
       "      <td>-0.149778</td>\n",
       "      <td>0.842653</td>\n",
       "      <td>0.059344</td>\n",
       "    </tr>\n",
       "    <tr>\n",
       "      <th>15:00:00</th>\n",
       "      <td>-0.529166</td>\n",
       "      <td>0.224169</td>\n",
       "      <td>0.244072</td>\n",
       "      <td>1.063387</td>\n",
       "      <td>0.278477</td>\n",
       "      <td>1.239456</td>\n",
       "      <td>0.244098</td>\n",
       "    </tr>\n",
       "    <tr>\n",
       "      <th>16:00:00</th>\n",
       "      <td>0.131346</td>\n",
       "      <td>-0.212068</td>\n",
       "      <td>-0.175435</td>\n",
       "      <td>0.297747</td>\n",
       "      <td>-0.590354</td>\n",
       "      <td>0.950978</td>\n",
       "      <td>-0.717908</td>\n",
       "    </tr>\n",
       "    <tr>\n",
       "      <th>17:00:00</th>\n",
       "      <td>-0.008986</td>\n",
       "      <td>0.070998</td>\n",
       "      <td>-0.192948</td>\n",
       "      <td>0.251224</td>\n",
       "      <td>-0.102776</td>\n",
       "      <td>0.447304</td>\n",
       "      <td>-0.353025</td>\n",
       "    </tr>\n",
       "    <tr>\n",
       "      <th>18:00:00</th>\n",
       "      <td>0.513599</td>\n",
       "      <td>-0.303164</td>\n",
       "      <td>0.321769</td>\n",
       "      <td>-0.107969</td>\n",
       "      <td>-0.038227</td>\n",
       "      <td>-0.050849</td>\n",
       "      <td>-0.106413</td>\n",
       "    </tr>\n",
       "    <tr>\n",
       "      <th>19:00:00</th>\n",
       "      <td>0.019419</td>\n",
       "      <td>0.142040</td>\n",
       "      <td>0.089041</td>\n",
       "      <td>0.036604</td>\n",
       "      <td>0.216152</td>\n",
       "      <td>-0.126023</td>\n",
       "      <td>-0.003382</td>\n",
       "    </tr>\n",
       "    <tr>\n",
       "      <th>20:00:00</th>\n",
       "      <td>0.114193</td>\n",
       "      <td>0.130807</td>\n",
       "      <td>-0.071375</td>\n",
       "      <td>0.040010</td>\n",
       "      <td>-0.074895</td>\n",
       "      <td>0.053047</td>\n",
       "      <td>-0.040151</td>\n",
       "    </tr>\n",
       "    <tr>\n",
       "      <th>21:00:00</th>\n",
       "      <td>0.641717</td>\n",
       "      <td>-0.352946</td>\n",
       "      <td>0.243166</td>\n",
       "      <td>-0.267695</td>\n",
       "      <td>0.346734</td>\n",
       "      <td>0.533093</td>\n",
       "      <td>0.107600</td>\n",
       "    </tr>\n",
       "    <tr>\n",
       "      <th>22:00:00</th>\n",
       "      <td>-0.282932</td>\n",
       "      <td>0.018105</td>\n",
       "      <td>-0.026769</td>\n",
       "      <td>-0.231796</td>\n",
       "      <td>0.071539</td>\n",
       "      <td>-0.388567</td>\n",
       "      <td>-0.051023</td>\n",
       "    </tr>\n",
       "    <tr>\n",
       "      <th>23:00:00</th>\n",
       "      <td>-0.048098</td>\n",
       "      <td>-0.153612</td>\n",
       "      <td>-0.320124</td>\n",
       "      <td>0.123942</td>\n",
       "      <td>0.210459</td>\n",
       "      <td>0.003930</td>\n",
       "      <td>0.152126</td>\n",
       "    </tr>\n",
       "    <tr>\n",
       "      <th>00:00:00</th>\n",
       "      <td>-0.394546</td>\n",
       "      <td>-0.052853</td>\n",
       "      <td>0.121016</td>\n",
       "      <td>0.195503</td>\n",
       "      <td>0.145699</td>\n",
       "      <td>-0.325704</td>\n",
       "      <td>0.051233</td>\n",
       "    </tr>\n",
       "    <tr>\n",
       "      <th>01:00:00</th>\n",
       "      <td>-0.320108</td>\n",
       "      <td>0.089832</td>\n",
       "      <td>0.138541</td>\n",
       "      <td>0.128727</td>\n",
       "      <td>0.319522</td>\n",
       "      <td>0.145464</td>\n",
       "      <td>0.059040</td>\n",
       "    </tr>\n",
       "    <tr>\n",
       "      <th>02:00:00</th>\n",
       "      <td>0.807042</td>\n",
       "      <td>-0.356000</td>\n",
       "      <td>-0.183086</td>\n",
       "      <td>1.205295</td>\n",
       "      <td>-0.077424</td>\n",
       "      <td>0.163195</td>\n",
       "      <td>-0.374738</td>\n",
       "    </tr>\n",
       "  </tbody>\n",
       "</table>\n",
       "</div>"
      ],
      "text/plain": [
       "            Friday  Saturday    Sunday    Monday   Tuesday  Wednesday  \\\n",
       "03:00:00  0.103729 -0.172965 -0.142977 -0.085706 -0.302092  -0.283319   \n",
       "04:00:00  0.329605  0.190079  0.230933  0.154467 -0.053677   0.083570   \n",
       "05:00:00  0.543534  0.047063  0.094149  0.131167 -0.016914   0.002783   \n",
       "06:00:00 -0.010525  0.114164 -0.208401  0.159483 -0.264369  -0.013236   \n",
       "07:00:00 -0.012876  0.083836 -0.156133  0.018656  0.181552  -0.396103   \n",
       "08:00:00  0.118798  0.128629 -0.040169  0.046711 -0.213204   0.020481   \n",
       "09:00:00  1.047380 -0.242746 -0.162680  0.256923  0.168152  -0.692785   \n",
       "10:00:00  0.343076 -0.263262 -0.143629 -0.245889  0.526854  -0.600509   \n",
       "11:00:00 -0.146066 -0.038505  0.226426 -0.026205 -0.442541   0.005005   \n",
       "12:00:00  0.276055 -0.025975 -0.036430 -0.055745  0.274667  -0.091713   \n",
       "13:00:00  0.286720  0.106000 -0.292402 -0.079842 -0.226566   0.090988   \n",
       "14:00:00 -0.420745  0.023953 -0.029107  0.025325 -0.149778   0.842653   \n",
       "15:00:00 -0.529166  0.224169  0.244072  1.063387  0.278477   1.239456   \n",
       "16:00:00  0.131346 -0.212068 -0.175435  0.297747 -0.590354   0.950978   \n",
       "17:00:00 -0.008986  0.070998 -0.192948  0.251224 -0.102776   0.447304   \n",
       "18:00:00  0.513599 -0.303164  0.321769 -0.107969 -0.038227  -0.050849   \n",
       "19:00:00  0.019419  0.142040  0.089041  0.036604  0.216152  -0.126023   \n",
       "20:00:00  0.114193  0.130807 -0.071375  0.040010 -0.074895   0.053047   \n",
       "21:00:00  0.641717 -0.352946  0.243166 -0.267695  0.346734   0.533093   \n",
       "22:00:00 -0.282932  0.018105 -0.026769 -0.231796  0.071539  -0.388567   \n",
       "23:00:00 -0.048098 -0.153612 -0.320124  0.123942  0.210459   0.003930   \n",
       "00:00:00 -0.394546 -0.052853  0.121016  0.195503  0.145699  -0.325704   \n",
       "01:00:00 -0.320108  0.089832  0.138541  0.128727  0.319522   0.145464   \n",
       "02:00:00  0.807042 -0.356000 -0.183086  1.205295 -0.077424   0.163195   \n",
       "\n",
       "          Thursday  \n",
       "03:00:00  0.488536  \n",
       "04:00:00 -0.060741  \n",
       "05:00:00 -0.203398  \n",
       "06:00:00 -0.062468  \n",
       "07:00:00 -0.212299  \n",
       "08:00:00 -0.276407  \n",
       "09:00:00  0.157529  \n",
       "10:00:00  0.700612  \n",
       "11:00:00  0.226515  \n",
       "12:00:00 -0.385749  \n",
       "13:00:00 -0.064361  \n",
       "14:00:00  0.059344  \n",
       "15:00:00  0.244098  \n",
       "16:00:00 -0.717908  \n",
       "17:00:00 -0.353025  \n",
       "18:00:00 -0.106413  \n",
       "19:00:00 -0.003382  \n",
       "20:00:00 -0.040151  \n",
       "21:00:00  0.107600  \n",
       "22:00:00 -0.051023  \n",
       "23:00:00  0.152126  \n",
       "00:00:00  0.051233  \n",
       "01:00:00  0.059040  \n",
       "02:00:00 -0.374738  "
      ]
     },
     "execution_count": 34,
     "metadata": {},
     "output_type": "execute_result"
    }
   ],
   "source": [
    "dfmed"
   ]
  },
  {
   "cell_type": "code",
   "execution_count": 47,
   "metadata": {},
   "outputs": [
    {
     "data": {
      "application/vnd.plotly.v1+json": {
       "config": {
        "plotlyServerURL": "https://plot.ly"
       },
       "data": [
        {
         "alignmentgroup": "True",
         "hovertemplate": "variable=Friday<br>index=%{x}<br>value=%{y}<extra></extra>",
         "legendgroup": "Friday",
         "marker": {
          "color": "#636efa",
          "pattern": {
           "shape": ""
          }
         },
         "name": "Friday",
         "offsetgroup": "Friday",
         "orientation": "v",
         "showlegend": true,
         "textposition": "auto",
         "type": "bar",
         "x": [
          "03:00:00",
          "04:00:00",
          "05:00:00",
          "06:00:00",
          "07:00:00",
          "08:00:00",
          "09:00:00",
          "10:00:00",
          "11:00:00",
          "12:00:00",
          "13:00:00",
          "14:00:00",
          "15:00:00",
          "16:00:00",
          "17:00:00",
          "18:00:00",
          "19:00:00",
          "20:00:00",
          "21:00:00",
          "22:00:00",
          "23:00:00",
          "00:00:00",
          "01:00:00",
          "02:00:00"
         ],
         "xaxis": "x",
         "y": [
          0.0757290803189136,
          0.47046479620553044,
          0.3500163916679327,
          -0.011851890582346414,
          0.021486342984113095,
          0.09815803921551947,
          0.42779006518883306,
          0.5168743194463474,
          -0.19788858620745203,
          1.068076230234101,
          0.19736578722035175,
          -0.24992543321629057,
          -0.3856426810858494,
          -0.060129049726481296,
          0.06742695603948619,
          0.7930080312565224,
          -0.12041422288230023,
          0.005058660107616219,
          0.4033989499773071,
          -0.024262481897790168,
          -0.3773048893788456,
          -0.44030589230038686,
          -0.2353107239616925,
          0.6147795127417197
         ],
         "yaxis": "y"
        },
        {
         "alignmentgroup": "True",
         "hovertemplate": "variable=Saturday<br>index=%{x}<br>value=%{y}<extra></extra>",
         "legendgroup": "Saturday",
         "marker": {
          "color": "#EF553B",
          "pattern": {
           "shape": ""
          }
         },
         "name": "Saturday",
         "offsetgroup": "Saturday",
         "orientation": "v",
         "showlegend": true,
         "textposition": "auto",
         "type": "bar",
         "x": [
          "03:00:00",
          "04:00:00",
          "05:00:00",
          "06:00:00",
          "07:00:00",
          "08:00:00",
          "09:00:00",
          "10:00:00",
          "11:00:00",
          "12:00:00",
          "13:00:00",
          "14:00:00",
          "15:00:00",
          "16:00:00",
          "17:00:00",
          "18:00:00",
          "19:00:00",
          "20:00:00",
          "21:00:00",
          "22:00:00",
          "23:00:00",
          "00:00:00",
          "01:00:00",
          "02:00:00"
         ],
         "xaxis": "x",
         "y": [
          -0.15809559468085013,
          0.11148634187897813,
          0.052263585797757625,
          0.005153707574424971,
          0.12438700328321772,
          0.13440348618426584,
          -0.17111870251465292,
          -0.13817861117322822,
          -0.07713253600774692,
          -0.06888674591938013,
          0.42725593960657876,
          -0.2262778986379061,
          0.17102781982919169,
          -0.228864686209036,
          0.07836742298165404,
          -0.21290683256038107,
          0.04169409334378145,
          0.21223155270486133,
          -0.04269196289111506,
          -0.01954163822055932,
          -0.11106742634009947,
          -0.08089297569840426,
          0.1312164411330116,
          -0.041823503110686035
         ],
         "yaxis": "y"
        },
        {
         "alignmentgroup": "True",
         "hovertemplate": "variable=Sunday<br>index=%{x}<br>value=%{y}<extra></extra>",
         "legendgroup": "Sunday",
         "marker": {
          "color": "#00cc96",
          "pattern": {
           "shape": ""
          }
         },
         "name": "Sunday",
         "offsetgroup": "Sunday",
         "orientation": "v",
         "showlegend": true,
         "textposition": "auto",
         "type": "bar",
         "x": [
          "03:00:00",
          "04:00:00",
          "05:00:00",
          "06:00:00",
          "07:00:00",
          "08:00:00",
          "09:00:00",
          "10:00:00",
          "11:00:00",
          "12:00:00",
          "13:00:00",
          "14:00:00",
          "15:00:00",
          "16:00:00",
          "17:00:00",
          "18:00:00",
          "19:00:00",
          "20:00:00",
          "21:00:00",
          "22:00:00",
          "23:00:00",
          "00:00:00",
          "01:00:00",
          "02:00:00"
         ],
         "xaxis": "x",
         "y": [
          -0.19738960123034985,
          0.18821778805840098,
          0.2012294644651206,
          0.11752452636502256,
          -0.14012859836285257,
          -0.0739122133142132,
          -0.32141244153577586,
          -0.03350969839428899,
          0.09846690410663825,
          -0.07725482506938022,
          -0.2244566133548659,
          -0.053967388823630814,
          0.2599021404393966,
          -0.19235106260102838,
          -0.057375669335928595,
          0.3199296293422549,
          0.37055236339721204,
          -0.13840753371662515,
          0.11776230657291649,
          -0.16299646408400292,
          -0.176201340609569,
          0.06583727087109707,
          0.053910244725753384,
          -0.08909479534551205
         ],
         "yaxis": "y"
        },
        {
         "alignmentgroup": "True",
         "hovertemplate": "variable=Monday<br>index=%{x}<br>value=%{y}<extra></extra>",
         "legendgroup": "Monday",
         "marker": {
          "color": "#ab63fa",
          "pattern": {
           "shape": ""
          }
         },
         "name": "Monday",
         "offsetgroup": "Monday",
         "orientation": "v",
         "showlegend": true,
         "textposition": "auto",
         "type": "bar",
         "x": [
          "03:00:00",
          "04:00:00",
          "05:00:00",
          "06:00:00",
          "07:00:00",
          "08:00:00",
          "09:00:00",
          "10:00:00",
          "11:00:00",
          "12:00:00",
          "13:00:00",
          "14:00:00",
          "15:00:00",
          "16:00:00",
          "17:00:00",
          "18:00:00",
          "19:00:00",
          "20:00:00",
          "21:00:00",
          "22:00:00",
          "23:00:00",
          "00:00:00",
          "01:00:00",
          "02:00:00"
         ],
         "xaxis": "x",
         "y": [
          -0.11584437024759353,
          0.22730891416139443,
          0.2634832366067421,
          0.21542251005674373,
          -0.042958661838291334,
          0.0461288365670498,
          0.2303348724584744,
          -0.19638724810912578,
          -0.20818661477286682,
          -0.14015438834875837,
          -0.09868155981668991,
          -0.05373458593039615,
          1.2239369816473342,
          -0.08239992997622991,
          0.24362436181408853,
          0.29557398468996965,
          0.18174317634586856,
          0.026635190816179488,
          -0.2438352481352446,
          -0.32102492748558475,
          0.16409448353078204,
          0.30297741410999207,
          0.06419912552561158,
          0.8253508243972512
         ],
         "yaxis": "y"
        },
        {
         "alignmentgroup": "True",
         "hovertemplate": "variable=Tuesday<br>index=%{x}<br>value=%{y}<extra></extra>",
         "legendgroup": "Tuesday",
         "marker": {
          "color": "#FFA15A",
          "pattern": {
           "shape": ""
          }
         },
         "name": "Tuesday",
         "offsetgroup": "Tuesday",
         "orientation": "v",
         "showlegend": true,
         "textposition": "auto",
         "type": "bar",
         "x": [
          "03:00:00",
          "04:00:00",
          "05:00:00",
          "06:00:00",
          "07:00:00",
          "08:00:00",
          "09:00:00",
          "10:00:00",
          "11:00:00",
          "12:00:00",
          "13:00:00",
          "14:00:00",
          "15:00:00",
          "16:00:00",
          "17:00:00",
          "18:00:00",
          "19:00:00",
          "20:00:00",
          "21:00:00",
          "22:00:00",
          "23:00:00",
          "00:00:00",
          "01:00:00",
          "02:00:00"
         ],
         "xaxis": "x",
         "y": [
          -0.24711391085334355,
          -0.11591983997764643,
          0.3161727534821992,
          -0.1482689774833652,
          0.26235622769804934,
          -0.2230513321970804,
          0.19840178476892234,
          0.552974176101884,
          -0.2665588913213348,
          0.14058822938775606,
          -0.17032600507076978,
          -0.1729445881420304,
          0.1789049882423761,
          -0.5736404572908924,
          0.12259654443981205,
          0.12296585217617206,
          0.2581144442476564,
          0.04970727324072399,
          0.34809843245082916,
          0.14375358142357442,
          -0.10774816797988152,
          0.1690558491648524,
          0.2919480517515396,
          -0.11813713523401148
         ],
         "yaxis": "y"
        },
        {
         "alignmentgroup": "True",
         "hovertemplate": "variable=Wednesday<br>index=%{x}<br>value=%{y}<extra></extra>",
         "legendgroup": "Wednesday",
         "marker": {
          "color": "#19d3f3",
          "pattern": {
           "shape": ""
          }
         },
         "name": "Wednesday",
         "offsetgroup": "Wednesday",
         "orientation": "v",
         "showlegend": true,
         "textposition": "auto",
         "type": "bar",
         "x": [
          "03:00:00",
          "04:00:00",
          "05:00:00",
          "06:00:00",
          "07:00:00",
          "08:00:00",
          "09:00:00",
          "10:00:00",
          "11:00:00",
          "12:00:00",
          "13:00:00",
          "14:00:00",
          "15:00:00",
          "16:00:00",
          "17:00:00",
          "18:00:00",
          "19:00:00",
          "20:00:00",
          "21:00:00",
          "22:00:00",
          "23:00:00",
          "00:00:00",
          "01:00:00",
          "02:00:00"
         ],
         "xaxis": "x",
         "y": [
          -0.2576438351143402,
          0.12653693515341047,
          0.0495817869499362,
          0.10519946875192687,
          -0.5648979223600605,
          0.06192518452633422,
          -0.5999897005491874,
          -0.6415728467842712,
          -0.008396624870837144,
          0.07190786092840185,
          0.1287223734964904,
          1.042805388672143,
          1.2099311094862344,
          0.9352378429461297,
          0.3003815240552399,
          0.18279443140296436,
          -0.1803222605501702,
          0.0622301949840427,
          0.384306445807173,
          -0.3871040323934878,
          0.16782271953077554,
          -0.23933127386108666,
          -0.021866049841552382,
          0.2028982990007897
         ],
         "yaxis": "y"
        },
        {
         "alignmentgroup": "True",
         "hovertemplate": "variable=Thursday<br>index=%{x}<br>value=%{y}<extra></extra>",
         "legendgroup": "Thursday",
         "marker": {
          "color": "#FF6692",
          "pattern": {
           "shape": ""
          }
         },
         "name": "Thursday",
         "offsetgroup": "Thursday",
         "orientation": "v",
         "showlegend": true,
         "textposition": "auto",
         "type": "bar",
         "x": [
          "03:00:00",
          "04:00:00",
          "05:00:00",
          "06:00:00",
          "07:00:00",
          "08:00:00",
          "09:00:00",
          "10:00:00",
          "11:00:00",
          "12:00:00",
          "13:00:00",
          "14:00:00",
          "15:00:00",
          "16:00:00",
          "17:00:00",
          "18:00:00",
          "19:00:00",
          "20:00:00",
          "21:00:00",
          "22:00:00",
          "23:00:00",
          "00:00:00",
          "01:00:00",
          "02:00:00"
         ],
         "xaxis": "x",
         "y": [
          0.29591202844795106,
          0.061785179027967985,
          -0.17896690599596,
          0.04838665587029212,
          -0.13922635413767992,
          -0.2566215493405082,
          0.09223239912144976,
          0.9139856409975806,
          0.22345633562478184,
          -0.3060899227942926,
          -0.1781737480277954,
          -0.02700773738061457,
          0.26316159111879145,
          -0.7937390408394229,
          -0.3883496017688728,
          -0.04431277189653571,
          -0.09181278043259766,
          -0.06886949693319977,
          0.4504924802091743,
          -0.10621064343543907,
          -0.05539027163260002,
          0.00040596790747216005,
          -0.038979520727849604,
          -0.2484485247463084
         ],
         "yaxis": "y"
        }
       ],
       "layout": {
        "barmode": "relative",
        "legend": {
         "title": {
          "text": "variable"
         },
         "tracegroupgap": 0
        },
        "margin": {
         "t": 60
        },
        "template": {
         "data": {
          "bar": [
           {
            "error_x": {
             "color": "#2a3f5f"
            },
            "error_y": {
             "color": "#2a3f5f"
            },
            "marker": {
             "line": {
              "color": "#E5ECF6",
              "width": 0.5
             },
             "pattern": {
              "fillmode": "overlay",
              "size": 10,
              "solidity": 0.2
             }
            },
            "type": "bar"
           }
          ],
          "barpolar": [
           {
            "marker": {
             "line": {
              "color": "#E5ECF6",
              "width": 0.5
             },
             "pattern": {
              "fillmode": "overlay",
              "size": 10,
              "solidity": 0.2
             }
            },
            "type": "barpolar"
           }
          ],
          "carpet": [
           {
            "aaxis": {
             "endlinecolor": "#2a3f5f",
             "gridcolor": "white",
             "linecolor": "white",
             "minorgridcolor": "white",
             "startlinecolor": "#2a3f5f"
            },
            "baxis": {
             "endlinecolor": "#2a3f5f",
             "gridcolor": "white",
             "linecolor": "white",
             "minorgridcolor": "white",
             "startlinecolor": "#2a3f5f"
            },
            "type": "carpet"
           }
          ],
          "choropleth": [
           {
            "colorbar": {
             "outlinewidth": 0,
             "ticks": ""
            },
            "type": "choropleth"
           }
          ],
          "contour": [
           {
            "colorbar": {
             "outlinewidth": 0,
             "ticks": ""
            },
            "colorscale": [
             [
              0,
              "#0d0887"
             ],
             [
              0.1111111111111111,
              "#46039f"
             ],
             [
              0.2222222222222222,
              "#7201a8"
             ],
             [
              0.3333333333333333,
              "#9c179e"
             ],
             [
              0.4444444444444444,
              "#bd3786"
             ],
             [
              0.5555555555555556,
              "#d8576b"
             ],
             [
              0.6666666666666666,
              "#ed7953"
             ],
             [
              0.7777777777777778,
              "#fb9f3a"
             ],
             [
              0.8888888888888888,
              "#fdca26"
             ],
             [
              1,
              "#f0f921"
             ]
            ],
            "type": "contour"
           }
          ],
          "contourcarpet": [
           {
            "colorbar": {
             "outlinewidth": 0,
             "ticks": ""
            },
            "type": "contourcarpet"
           }
          ],
          "heatmap": [
           {
            "colorbar": {
             "outlinewidth": 0,
             "ticks": ""
            },
            "colorscale": [
             [
              0,
              "#0d0887"
             ],
             [
              0.1111111111111111,
              "#46039f"
             ],
             [
              0.2222222222222222,
              "#7201a8"
             ],
             [
              0.3333333333333333,
              "#9c179e"
             ],
             [
              0.4444444444444444,
              "#bd3786"
             ],
             [
              0.5555555555555556,
              "#d8576b"
             ],
             [
              0.6666666666666666,
              "#ed7953"
             ],
             [
              0.7777777777777778,
              "#fb9f3a"
             ],
             [
              0.8888888888888888,
              "#fdca26"
             ],
             [
              1,
              "#f0f921"
             ]
            ],
            "type": "heatmap"
           }
          ],
          "heatmapgl": [
           {
            "colorbar": {
             "outlinewidth": 0,
             "ticks": ""
            },
            "colorscale": [
             [
              0,
              "#0d0887"
             ],
             [
              0.1111111111111111,
              "#46039f"
             ],
             [
              0.2222222222222222,
              "#7201a8"
             ],
             [
              0.3333333333333333,
              "#9c179e"
             ],
             [
              0.4444444444444444,
              "#bd3786"
             ],
             [
              0.5555555555555556,
              "#d8576b"
             ],
             [
              0.6666666666666666,
              "#ed7953"
             ],
             [
              0.7777777777777778,
              "#fb9f3a"
             ],
             [
              0.8888888888888888,
              "#fdca26"
             ],
             [
              1,
              "#f0f921"
             ]
            ],
            "type": "heatmapgl"
           }
          ],
          "histogram": [
           {
            "marker": {
             "pattern": {
              "fillmode": "overlay",
              "size": 10,
              "solidity": 0.2
             }
            },
            "type": "histogram"
           }
          ],
          "histogram2d": [
           {
            "colorbar": {
             "outlinewidth": 0,
             "ticks": ""
            },
            "colorscale": [
             [
              0,
              "#0d0887"
             ],
             [
              0.1111111111111111,
              "#46039f"
             ],
             [
              0.2222222222222222,
              "#7201a8"
             ],
             [
              0.3333333333333333,
              "#9c179e"
             ],
             [
              0.4444444444444444,
              "#bd3786"
             ],
             [
              0.5555555555555556,
              "#d8576b"
             ],
             [
              0.6666666666666666,
              "#ed7953"
             ],
             [
              0.7777777777777778,
              "#fb9f3a"
             ],
             [
              0.8888888888888888,
              "#fdca26"
             ],
             [
              1,
              "#f0f921"
             ]
            ],
            "type": "histogram2d"
           }
          ],
          "histogram2dcontour": [
           {
            "colorbar": {
             "outlinewidth": 0,
             "ticks": ""
            },
            "colorscale": [
             [
              0,
              "#0d0887"
             ],
             [
              0.1111111111111111,
              "#46039f"
             ],
             [
              0.2222222222222222,
              "#7201a8"
             ],
             [
              0.3333333333333333,
              "#9c179e"
             ],
             [
              0.4444444444444444,
              "#bd3786"
             ],
             [
              0.5555555555555556,
              "#d8576b"
             ],
             [
              0.6666666666666666,
              "#ed7953"
             ],
             [
              0.7777777777777778,
              "#fb9f3a"
             ],
             [
              0.8888888888888888,
              "#fdca26"
             ],
             [
              1,
              "#f0f921"
             ]
            ],
            "type": "histogram2dcontour"
           }
          ],
          "mesh3d": [
           {
            "colorbar": {
             "outlinewidth": 0,
             "ticks": ""
            },
            "type": "mesh3d"
           }
          ],
          "parcoords": [
           {
            "line": {
             "colorbar": {
              "outlinewidth": 0,
              "ticks": ""
             }
            },
            "type": "parcoords"
           }
          ],
          "pie": [
           {
            "automargin": true,
            "type": "pie"
           }
          ],
          "scatter": [
           {
            "marker": {
             "colorbar": {
              "outlinewidth": 0,
              "ticks": ""
             }
            },
            "type": "scatter"
           }
          ],
          "scatter3d": [
           {
            "line": {
             "colorbar": {
              "outlinewidth": 0,
              "ticks": ""
             }
            },
            "marker": {
             "colorbar": {
              "outlinewidth": 0,
              "ticks": ""
             }
            },
            "type": "scatter3d"
           }
          ],
          "scattercarpet": [
           {
            "marker": {
             "colorbar": {
              "outlinewidth": 0,
              "ticks": ""
             }
            },
            "type": "scattercarpet"
           }
          ],
          "scattergeo": [
           {
            "marker": {
             "colorbar": {
              "outlinewidth": 0,
              "ticks": ""
             }
            },
            "type": "scattergeo"
           }
          ],
          "scattergl": [
           {
            "marker": {
             "colorbar": {
              "outlinewidth": 0,
              "ticks": ""
             }
            },
            "type": "scattergl"
           }
          ],
          "scattermapbox": [
           {
            "marker": {
             "colorbar": {
              "outlinewidth": 0,
              "ticks": ""
             }
            },
            "type": "scattermapbox"
           }
          ],
          "scatterpolar": [
           {
            "marker": {
             "colorbar": {
              "outlinewidth": 0,
              "ticks": ""
             }
            },
            "type": "scatterpolar"
           }
          ],
          "scatterpolargl": [
           {
            "marker": {
             "colorbar": {
              "outlinewidth": 0,
              "ticks": ""
             }
            },
            "type": "scatterpolargl"
           }
          ],
          "scatterternary": [
           {
            "marker": {
             "colorbar": {
              "outlinewidth": 0,
              "ticks": ""
             }
            },
            "type": "scatterternary"
           }
          ],
          "surface": [
           {
            "colorbar": {
             "outlinewidth": 0,
             "ticks": ""
            },
            "colorscale": [
             [
              0,
              "#0d0887"
             ],
             [
              0.1111111111111111,
              "#46039f"
             ],
             [
              0.2222222222222222,
              "#7201a8"
             ],
             [
              0.3333333333333333,
              "#9c179e"
             ],
             [
              0.4444444444444444,
              "#bd3786"
             ],
             [
              0.5555555555555556,
              "#d8576b"
             ],
             [
              0.6666666666666666,
              "#ed7953"
             ],
             [
              0.7777777777777778,
              "#fb9f3a"
             ],
             [
              0.8888888888888888,
              "#fdca26"
             ],
             [
              1,
              "#f0f921"
             ]
            ],
            "type": "surface"
           }
          ],
          "table": [
           {
            "cells": {
             "fill": {
              "color": "#EBF0F8"
             },
             "line": {
              "color": "white"
             }
            },
            "header": {
             "fill": {
              "color": "#C8D4E3"
             },
             "line": {
              "color": "white"
             }
            },
            "type": "table"
           }
          ]
         },
         "layout": {
          "annotationdefaults": {
           "arrowcolor": "#2a3f5f",
           "arrowhead": 0,
           "arrowwidth": 1
          },
          "autotypenumbers": "strict",
          "coloraxis": {
           "colorbar": {
            "outlinewidth": 0,
            "ticks": ""
           }
          },
          "colorscale": {
           "diverging": [
            [
             0,
             "#8e0152"
            ],
            [
             0.1,
             "#c51b7d"
            ],
            [
             0.2,
             "#de77ae"
            ],
            [
             0.3,
             "#f1b6da"
            ],
            [
             0.4,
             "#fde0ef"
            ],
            [
             0.5,
             "#f7f7f7"
            ],
            [
             0.6,
             "#e6f5d0"
            ],
            [
             0.7,
             "#b8e186"
            ],
            [
             0.8,
             "#7fbc41"
            ],
            [
             0.9,
             "#4d9221"
            ],
            [
             1,
             "#276419"
            ]
           ],
           "sequential": [
            [
             0,
             "#0d0887"
            ],
            [
             0.1111111111111111,
             "#46039f"
            ],
            [
             0.2222222222222222,
             "#7201a8"
            ],
            [
             0.3333333333333333,
             "#9c179e"
            ],
            [
             0.4444444444444444,
             "#bd3786"
            ],
            [
             0.5555555555555556,
             "#d8576b"
            ],
            [
             0.6666666666666666,
             "#ed7953"
            ],
            [
             0.7777777777777778,
             "#fb9f3a"
            ],
            [
             0.8888888888888888,
             "#fdca26"
            ],
            [
             1,
             "#f0f921"
            ]
           ],
           "sequentialminus": [
            [
             0,
             "#0d0887"
            ],
            [
             0.1111111111111111,
             "#46039f"
            ],
            [
             0.2222222222222222,
             "#7201a8"
            ],
            [
             0.3333333333333333,
             "#9c179e"
            ],
            [
             0.4444444444444444,
             "#bd3786"
            ],
            [
             0.5555555555555556,
             "#d8576b"
            ],
            [
             0.6666666666666666,
             "#ed7953"
            ],
            [
             0.7777777777777778,
             "#fb9f3a"
            ],
            [
             0.8888888888888888,
             "#fdca26"
            ],
            [
             1,
             "#f0f921"
            ]
           ]
          },
          "colorway": [
           "#636efa",
           "#EF553B",
           "#00cc96",
           "#ab63fa",
           "#FFA15A",
           "#19d3f3",
           "#FF6692",
           "#B6E880",
           "#FF97FF",
           "#FECB52"
          ],
          "font": {
           "color": "#2a3f5f"
          },
          "geo": {
           "bgcolor": "white",
           "lakecolor": "white",
           "landcolor": "#E5ECF6",
           "showlakes": true,
           "showland": true,
           "subunitcolor": "white"
          },
          "hoverlabel": {
           "align": "left"
          },
          "hovermode": "closest",
          "mapbox": {
           "style": "light"
          },
          "paper_bgcolor": "white",
          "plot_bgcolor": "#E5ECF6",
          "polar": {
           "angularaxis": {
            "gridcolor": "white",
            "linecolor": "white",
            "ticks": ""
           },
           "bgcolor": "#E5ECF6",
           "radialaxis": {
            "gridcolor": "white",
            "linecolor": "white",
            "ticks": ""
           }
          },
          "scene": {
           "xaxis": {
            "backgroundcolor": "#E5ECF6",
            "gridcolor": "white",
            "gridwidth": 2,
            "linecolor": "white",
            "showbackground": true,
            "ticks": "",
            "zerolinecolor": "white"
           },
           "yaxis": {
            "backgroundcolor": "#E5ECF6",
            "gridcolor": "white",
            "gridwidth": 2,
            "linecolor": "white",
            "showbackground": true,
            "ticks": "",
            "zerolinecolor": "white"
           },
           "zaxis": {
            "backgroundcolor": "#E5ECF6",
            "gridcolor": "white",
            "gridwidth": 2,
            "linecolor": "white",
            "showbackground": true,
            "ticks": "",
            "zerolinecolor": "white"
           }
          },
          "shapedefaults": {
           "line": {
            "color": "#2a3f5f"
           }
          },
          "ternary": {
           "aaxis": {
            "gridcolor": "white",
            "linecolor": "white",
            "ticks": ""
           },
           "baxis": {
            "gridcolor": "white",
            "linecolor": "white",
            "ticks": ""
           },
           "bgcolor": "#E5ECF6",
           "caxis": {
            "gridcolor": "white",
            "linecolor": "white",
            "ticks": ""
           }
          },
          "title": {
           "x": 0.05
          },
          "xaxis": {
           "automargin": true,
           "gridcolor": "white",
           "linecolor": "white",
           "ticks": "",
           "title": {
            "standoff": 15
           },
           "zerolinecolor": "white",
           "zerolinewidth": 2
          },
          "yaxis": {
           "automargin": true,
           "gridcolor": "white",
           "linecolor": "white",
           "ticks": "",
           "title": {
            "standoff": 15
           },
           "zerolinecolor": "white",
           "zerolinewidth": 2
          }
         }
        },
        "xaxis": {
         "anchor": "y",
         "domain": [
          0,
          1
         ],
         "title": {
          "text": "index"
         }
        },
        "yaxis": {
         "anchor": "x",
         "domain": [
          0,
          1
         ],
         "title": {
          "text": "value"
         }
        }
       }
      }
     },
     "metadata": {},
     "output_type": "display_data"
    }
   ],
   "source": [
    "fig = px.bar(dfmean, x=dfmean.index, y=dfmean.columns)\n",
    "\n",
    "fig"
   ]
  }
 ],
 "metadata": {
  "interpreter": {
   "hash": "34e33369d6de1a77bbb7cf02195e306335ec7ac7be98d28066d7ae3192c6d7de"
  },
  "kernelspec": {
   "display_name": "Python 3.8.10 64-bit ('venvbtcanal': venv)",
   "language": "python",
   "name": "python3"
  },
  "language_info": {
   "codemirror_mode": {
    "name": "ipython",
    "version": 3
   },
   "file_extension": ".py",
   "mimetype": "text/x-python",
   "name": "python",
   "nbconvert_exporter": "python",
   "pygments_lexer": "ipython3",
   "version": "3.8.10"
  },
  "orig_nbformat": 4
 },
 "nbformat": 4,
 "nbformat_minor": 2
}
