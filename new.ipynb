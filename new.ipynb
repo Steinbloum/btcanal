{
 "cells": [
  {
   "cell_type": "code",
   "execution_count": 6,
   "metadata": {},
   "outputs": [
    {
     "name": "stdout",
     "output_type": "stream",
     "text": [
      "['Klines1hbtcusdtraw/BTCUSDT-1h-2021-07.csv', 'Klines1hbtcusdtraw/BTCUSDT-1h-2021-04.csv', 'Klines1hbtcusdtraw/BTCUSDT-1h-2021-08.csv', 'Klines1hbtcusdtraw/BTCUSDT-1h-2021-05.csv', 'Klines1hbtcusdtraw/BTCUSDT-1h-2021-01.csv', 'Klines1hbtcusdtraw/BTCUSDT-1h-2021-06.csv', 'Klines1hbtcusdtraw/BTCUSDT-1h-2021-10.csv', 'Klines1hbtcusdtraw/BTCUSDT-1h-2021-09.csv', 'Klines1hbtcusdtraw/BTCUSDT-1h-2021-02.csv', 'Klines1hbtcusdtraw/BTCUSDT-1h-2021-03.csv']\n",
      "['Thursday', 'Friday', 'Saturday', 'Sunday', 'Monday', 'Tuesday', 'Wednesday']\n",
      "['03h', '04h', '05h', '06h', '07h', '08h', '09h', '10h', '11h', '12h', '13h', '14h', '15h', '16h', '17h', '18h', '19h', '20h', '21h', '22h', '23h', '00h', '01h', '02h']\n",
      "searching Thursday\n",
      "Saecrhing for Thursday, time :03h\n",
      "0.5893411654847256\n",
      "0.2968617344621549\n",
      "-0.48699814851423184\n",
      "-0.22782925979528557\n",
      "0.6542798085275052\n",
      "-0.11274038903358985\n",
      "0.1409620438186323\n",
      "-0.06946589313848506\n",
      "-0.3334048961147005\n",
      "-0.2968181431209018\n",
      "-0.15585431563329166\n",
      "0.5078830273570247\n",
      "-0.19237145534287947\n",
      "-1.103241071062783\n",
      "-0.24098528097469796\n",
      "1.7277667917536377\n",
      "3.2711361076848817\n",
      "-2.56132112482679\n",
      "0.16493620690540922\n",
      "-0.021215922923303765\n",
      "-0.6510140303906127\n",
      "0.3738984794061224\n",
      "-0.4265965877077207\n",
      "-0.19553269256802253\n",
      "0.09509393504245622\n",
      "-1.6057592500388722\n",
      "-0.04175334892853755\n",
      "1.0188257132368648\n",
      "-0.9486569628558783\n",
      "1.1552327123393553\n",
      "1.8903022259700606\n",
      "-0.5218975401498227\n",
      "0.1602150510692013\n",
      "1.0053576151363615\n",
      "1.5374468864685298\n",
      "-0.7045260237733544\n",
      "1.2739065132852545\n",
      "0.3915562864793287\n",
      "0.2590637191517402\n",
      "-1.280408512304831\n",
      "0.9652817905364941\n",
      "-0.08969699471920478\n",
      "0.7977038101802094\n"
     ]
    },
    {
     "ename": "UnboundLocalError",
     "evalue": "local variable 'max' referenced before assignment",
     "output_type": "error",
     "traceback": [
      "\u001b[0;31m---------------------------------------------------------------------------\u001b[0m",
      "\u001b[0;31mUnboundLocalError\u001b[0m                         Traceback (most recent call last)",
      "\u001b[0;32m/tmp/ipykernel_11051/2904380489.py\u001b[0m in \u001b[0;36m<module>\u001b[0;34m\u001b[0m\n\u001b[1;32m     10\u001b[0m \u001b[0;34m\u001b[0m\u001b[0m\n\u001b[1;32m     11\u001b[0m \u001b[0mdf\u001b[0m \u001b[0;34m=\u001b[0m \u001b[0mgroup_df\u001b[0m\u001b[0;34m(\u001b[0m\u001b[0mpath_folder\u001b[0m\u001b[0;34m)\u001b[0m\u001b[0;34m\u001b[0m\u001b[0;34m\u001b[0m\u001b[0m\n\u001b[0;32m---> 12\u001b[0;31m \u001b[0mdf\u001b[0m \u001b[0;34m=\u001b[0m \u001b[0mgather_infos\u001b[0m\u001b[0;34m(\u001b[0m\u001b[0mdf\u001b[0m\u001b[0;34m)\u001b[0m\u001b[0;34m\u001b[0m\u001b[0;34m\u001b[0m\u001b[0m\n\u001b[0m\u001b[1;32m     13\u001b[0m \u001b[0mdf\u001b[0m\u001b[0;34m\u001b[0m\u001b[0;34m\u001b[0m\u001b[0m\n",
      "\u001b[0;32m~/Documents/btcanal/funcs.py\u001b[0m in \u001b[0;36mgather_infos\u001b[0;34m(df)\u001b[0m\n\u001b[1;32m    105\u001b[0m             \u001b[0mprint\u001b[0m\u001b[0;34m(\u001b[0m\u001b[0mlsvar\u001b[0m\u001b[0;34m)\u001b[0m\u001b[0;34m\u001b[0m\u001b[0;34m\u001b[0m\u001b[0m\n\u001b[1;32m    106\u001b[0m             \u001b[0mechantillon\u001b[0m \u001b[0;34m=\u001b[0m \u001b[0mlen\u001b[0m\u001b[0;34m(\u001b[0m\u001b[0mlsvar\u001b[0m\u001b[0;34m)\u001b[0m\u001b[0;34m\u001b[0m\u001b[0;34m\u001b[0m\u001b[0m\n\u001b[0;32m--> 107\u001b[0;31m             \u001b[0mprint\u001b[0m\u001b[0;34m(\u001b[0m\u001b[0;34m\"size is {}\"\u001b[0m\u001b[0;34m.\u001b[0m\u001b[0mformat\u001b[0m\u001b[0;34m(\u001b[0m\u001b[0mechantillon\u001b[0m\u001b[0;34m)\u001b[0m\u001b[0;34m)\u001b[0m\u001b[0;34m\u001b[0m\u001b[0;34m\u001b[0m\u001b[0m\n\u001b[0m\u001b[1;32m    108\u001b[0m             \u001b[0mmaxi\u001b[0m \u001b[0;34m=\u001b[0m \u001b[0mmax\u001b[0m\u001b[0;34m(\u001b[0m\u001b[0mlsvar\u001b[0m\u001b[0;34m)\u001b[0m\u001b[0;34m\u001b[0m\u001b[0;34m\u001b[0m\u001b[0m\n\u001b[1;32m    109\u001b[0m             \u001b[0mmini\u001b[0m \u001b[0;34m=\u001b[0m \u001b[0mmin\u001b[0m\u001b[0;34m(\u001b[0m\u001b[0mlsvar\u001b[0m\u001b[0;34m)\u001b[0m\u001b[0;34m\u001b[0m\u001b[0;34m\u001b[0m\u001b[0m\n",
      "\u001b[0;31mUnboundLocalError\u001b[0m: local variable 'max' referenced before assignment"
     ]
    }
   ],
   "source": [
    "import pandas as pd\n",
    "import numpy as np\n",
    "import plotly\n",
    "import plotly.express as px\n",
    "from datetime import datetime\n",
    "import glob\n",
    "from funcs import *\n",
    "\n",
    "path_folder = \"Klines1hbtcusdtraw\"\n",
    "\n",
    "df = group_df(path_folder)\n",
    "df = gather_infos(df)\n",
    "df"
   ]
  }
 ],
 "metadata": {
  "interpreter": {
   "hash": "34e33369d6de1a77bbb7cf02195e306335ec7ac7be98d28066d7ae3192c6d7de"
  },
  "kernelspec": {
   "display_name": "Python 3.8.10 64-bit ('venvbtcanal': venv)",
   "language": "python",
   "name": "python3"
  },
  "language_info": {
   "codemirror_mode": {
    "name": "ipython",
    "version": 3
   },
   "file_extension": ".py",
   "mimetype": "text/x-python",
   "name": "python",
   "nbconvert_exporter": "python",
   "pygments_lexer": "ipython3",
   "version": "3.8.10"
  },
  "orig_nbformat": 4
 },
 "nbformat": 4,
 "nbformat_minor": 2
}
